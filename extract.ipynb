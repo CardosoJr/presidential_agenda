{
 "metadata": {
  "language_info": {
   "codemirror_mode": {
    "name": "ipython",
    "version": 3
   },
   "file_extension": ".py",
   "mimetype": "text/x-python",
   "name": "python",
   "nbconvert_exporter": "python",
   "pygments_lexer": "ipython3",
   "version": "3.8.5"
  },
  "orig_nbformat": 2,
  "kernelspec": {
   "name": "python3",
   "display_name": "Python 3.8.5 64-bit ('base': conda)",
   "metadata": {
    "interpreter": {
     "hash": "b3ba2566441a7c06988d0923437866b63cedc61552a5af99d1f4fb67d367b25f"
    }
   }
  }
 },
 "nbformat": 4,
 "nbformat_minor": 2,
 "cells": [
  {
   "cell_type": "code",
   "execution_count": 1,
   "metadata": {},
   "outputs": [],
   "source": [
    "from crawler import crawler\n",
    "import yaml \n",
    "from datetime import date, datetime, timedelta\n",
    "from pathlib import Path\n",
    "CONFIG_PATH = Path(\"crawler/config.yaml\")\n"
   ]
  },
  {
   "cell_type": "code",
   "execution_count": 2,
   "metadata": {},
   "outputs": [
    {
     "output_type": "stream",
     "name": "stdout",
     "text": [
      "Scraping Presidential Agenda\n{'begin': '01-03-2021', 'end': '01-04-2021', 'data': 'data.csv', 'url': 'https://www.gov.br/planalto/pt-br/acompanhe-o-planalto/agenda-do-presidente-da-republica/'}\n"
     ]
    }
   ],
   "source": [
    "with open(CONFIG_PATH, 'r') as stream:\n",
    "    config_data = yaml.safe_load(stream)\n",
    "\n",
    "print(\"Scraping Presidential Agenda\")\n",
    "print(config_data)\n",
    "\n",
    "config_data['begin'] = datetime.strptime(config_data['begin'],'%d-%m-%Y')\n",
    "config_data['end'] = datetime.strptime(config_data['end'],'%d-%m-%Y')\n",
    "\n",
    "crawObj = crawler.PresidentialAgendaCrawler(csv_path = config_data['data'], base_url = config_data['url'])\n",
    "crawObj.scrape_datarange(config_data['begin'], config_data['end'])"
   ]
  }
 ]
}