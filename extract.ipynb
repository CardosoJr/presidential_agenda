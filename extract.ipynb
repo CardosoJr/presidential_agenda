{
 "metadata": {
  "language_info": {
   "codemirror_mode": {
    "name": "ipython",
    "version": 3
   },
   "file_extension": ".py",
   "mimetype": "text/x-python",
   "name": "python",
   "nbconvert_exporter": "python",
   "pygments_lexer": "ipython3",
   "version": "3.8.5"
  },
  "orig_nbformat": 2,
  "kernelspec": {
   "name": "python3",
   "display_name": "Python 3.8.5 64-bit ('base': conda)",
   "metadata": {
    "interpreter": {
     "hash": "b3ba2566441a7c06988d0923437866b63cedc61552a5af99d1f4fb67d367b25f"
    }
   }
  }
 },
 "nbformat": 4,
 "nbformat_minor": 2,
 "cells": [
  {
   "cell_type": "code",
   "execution_count": 1,
   "metadata": {},
   "outputs": [],
   "source": [
    "from crawler import crawler\n",
    "import yaml \n",
    "from datetime import date, datetime, timedelta\n",
    "from pathlib import Path\n",
    "CONFIG_PATH = Path(\"crawler/config.yaml\")\n"
   ]
  },
  {
   "cell_type": "code",
   "execution_count": 2,
   "metadata": {},
   "outputs": [
    {
     "output_type": "stream",
     "name": "stdout",
     "text": [
      "Scraping Presidential Agenda\n{'begin': '18-11-2020', 'end': '22-11-2020', 'data': 'data.csv', 'url': 'https://www.gov.br/planalto/pt-br/acompanhe-o-planalto/agenda-do-presidente-da-republica/'}\n"
     ]
    }
   ],
   "source": [
    "\n",
    "with open(CONFIG_PATH, 'r') as stream:\n",
    "    config_data = yaml.safe_load(stream)\n",
    "\n",
    "print(\"Scraping Presidential Agenda\")\n",
    "print(config_data)\n"
   ]
  },
  {
   "cell_type": "code",
   "execution_count": 3,
   "metadata": {},
   "outputs": [
    {
     "output_type": "stream",
     "name": "stdout",
     "text": [
      "\tExtracint Data 2020-11-18 00:00:00\n",
      "\tExtracint Data 2020-11-19 00:00:00\n",
      "\tExtracint Data 2020-11-20 00:00:00\n",
      "\tExtracint Data 2020-11-21 00:00:00\n",
      "Saving results\n",
      "\n"
     ]
    }
   ],
   "source": [
    "config_data['begin'] = datetime.strptime(config_data['begin'],'%d-%m-%Y')\n",
    "config_data['end'] = datetime.strptime(config_data['end'],'%d-%m-%Y')\n",
    "\n",
    "crawObj = crawler.PresidentialAgendaCrawler(csv_path = config_data['data'], base_url = config_data['url'])\n",
    "crawObj.scrape_datarange(config_data['begin'], config_data['end'])"
   ]
  },
  {
   "cell_type": "code",
   "execution_count": 5,
   "metadata": {},
   "outputs": [
    {
     "output_type": "execute_result",
     "data": {
      "text/plain": [
       "'https://www.gov.br/planalto/pt-br/acompanhe-o-planalto/agenda-do-presidente-da-republica/'"
      ]
     },
     "metadata": {},
     "execution_count": 5
    }
   ],
   "source": [
    "crawObj.base_url"
   ]
  },
  {
   "cell_type": "code",
   "execution_count": 6,
   "metadata": {},
   "outputs": [],
   "source": [
    "crawObj.driver.get(crawObj.base_url + \"2021-04-14\")"
   ]
  },
  {
   "cell_type": "code",
   "execution_count": 7,
   "metadata": {},
   "outputs": [
    {
     "output_type": "execute_result",
     "data": {
      "text/plain": [
       "[<selenium.webdriver.remote.webelement.WebElement (session=\"60c424c2344c2fda0a3ac8dbf8153981\", element=\"6c2ad46b-ab66-4ead-a6ec-90d388fd780e\")>,\n",
       " <selenium.webdriver.remote.webelement.WebElement (session=\"60c424c2344c2fda0a3ac8dbf8153981\", element=\"f13570a7-5cf6-4265-81e5-5d21e05b2d20\")>,\n",
       " <selenium.webdriver.remote.webelement.WebElement (session=\"60c424c2344c2fda0a3ac8dbf8153981\", element=\"c1123291-1f00-426d-bc49-684bb895ddf0\")>,\n",
       " <selenium.webdriver.remote.webelement.WebElement (session=\"60c424c2344c2fda0a3ac8dbf8153981\", element=\"63c7d81f-7f18-4234-83ff-c468c8c1364f\")>,\n",
       " <selenium.webdriver.remote.webelement.WebElement (session=\"60c424c2344c2fda0a3ac8dbf8153981\", element=\"02e306b2-48f7-4b93-8fc0-2b15e3ed9f69\")>,\n",
       " <selenium.webdriver.remote.webelement.WebElement (session=\"60c424c2344c2fda0a3ac8dbf8153981\", element=\"d5a3ca4f-5380-4263-9a87-8f469c8acf84\")>,\n",
       " <selenium.webdriver.remote.webelement.WebElement (session=\"60c424c2344c2fda0a3ac8dbf8153981\", element=\"3db8ecc6-1b10-423e-8d6b-f2e62be4a769\")>]"
      ]
     },
     "metadata": {},
     "execution_count": 7
    }
   ],
   "source": [
    "crawObj.driver.find_elements_by_class_name(\"item-compromisso\")"
   ]
  },
  {
   "cell_type": "code",
   "execution_count": 8,
   "metadata": {},
   "outputs": [],
   "source": [
    "compromisso = crawObj.driver.find_elements_by_class_name(\"item-compromisso\")[0]"
   ]
  },
  {
   "cell_type": "code",
   "execution_count": 26,
   "metadata": {},
   "outputs": [
    {
     "output_type": "execute_result",
     "data": {
      "text/plain": [
       "'10h15'"
      ]
     },
     "metadata": {},
     "execution_count": 26
    }
   ],
   "source": [
    "compromisso.find_element_by_xpath(\".//time\").text\n",
    "compromisso.find_element_by_xpath(\".//time[@class='compromisso-inicio']\").text\n",
    "compromisso.find_element_by_xpath(\".//time[@class='compromisso-fim']\").text"
   ]
  },
  {
   "cell_type": "code",
   "execution_count": null,
   "metadata": {},
   "outputs": [],
   "source": []
  },
  {
   "cell_type": "code",
   "execution_count": 17,
   "metadata": {},
   "outputs": [
    {
     "output_type": "execute_result",
     "data": {
      "text/plain": [
       "'2ª Reunião do Comitê de Coordenação Nacional para Enfrentamento da Pandemia da Covid-19'"
      ]
     },
     "metadata": {},
     "execution_count": 17
    }
   ],
   "source": [
    "compromisso.find_element_by_xpath(\".//h4[@class='compromisso-titulo toggle closed']\").text\r\n",
    "\r\n",
    "compromisso.find_element_by_name(\".//h4[@class='compromisso-titulo']\")"
   ]
  },
  {
   "cell_type": "code",
   "execution_count": 43,
   "metadata": {},
   "outputs": [
    {
     "output_type": "execute_result",
     "data": {
      "text/plain": [
       "'Palácio do Planalto'"
      ]
     },
     "metadata": {},
     "execution_count": 43
    }
   ],
   "source": [
    "# compromisso.find_element_by_xpath(\".//p[@class='compromisso-local']\").text\n",
    "\n",
    "compromisso.find_element_by_xpath(\".//div[@class='compromisso-local']\").text"
   ]
  },
  {
   "cell_type": "code",
   "execution_count": 9,
   "metadata": {},
   "outputs": [
    {
     "output_type": "execute_result",
     "data": {
      "text/plain": [
       "'Rodrigo Pacheco -  Presidente do Senado Federal;Luiz Eduardo Ramos -  Ministro de Estado-Chefe da Casa Civil;Marcelo Queiroga -  Ministro de Estado da Saúde;Fábio Faria -  Ministro de Estado das Comunicações;Augusto Heleno -  Ministro de Estado-Chefe do Gabinete de Segurança Institucional/PR;Deputado Dr. Luiz Antonio Teixeira Jr;Rodrigo Cruz -  Secretário-Executivo do Ministério da Saúde;Candice Lavocat Galvão Jobim -  Conselheira do Conselho Nacional de Justiça;Sandra Krieger -  representante do Conselho Nacional do Ministério Público;Rafael Meira Luz -  membro auxiliar Conselho Nacional do Ministério Público;Danilo Aguiar -  Consultor-Geral do Senado Federal;Alexandre Silveira -  Consultor Jurídico do Senado Federal;Thiago Meirelles Fernandes Pereira -  Secretário-Executivo Adjunto da Casa Civil;Francieli Fontana -  Secretária Extraordinária de Enfrentamento da Pandemia da CONVID-19'"
      ]
     },
     "metadata": {},
     "execution_count": 9
    }
   ],
   "source": [
    "pessoa = [x.get_attribute(\"innerHTML\").strip().replace(\",\", \" - \") for x in compromisso.find_element_by_xpath(\".//div[@class='compromisso-participantes']\").find_elements_by_tag_name('li')]\n",
    "';'.join(pessoa)"
   ]
  },
  {
   "cell_type": "code",
   "execution_count": 47,
   "metadata": {},
   "outputs": [
    {
     "output_type": "execute_result",
     "data": {
      "text/plain": [
       "['Rodrigo Pacheco, Presidente do Senado Federal',\n",
       " 'Luiz Eduardo Ramos, Ministro de Estado-Chefe da Casa Civil',\n",
       " 'Marcelo Queiroga, Ministro de Estado da Saúde',\n",
       " 'Fábio Faria, Ministro de Estado das Comunicações',\n",
       " 'Augusto Heleno, Ministro de Estado-Chefe do Gabinete de Segurança Institucional/PR',\n",
       " 'Deputado Dr. Luiz Antonio Teixeira Jr',\n",
       " 'Rodrigo Cruz, Secretário-Executivo do Ministério da Saúde',\n",
       " 'Candice Lavocat Galvão Jobim, Conselheira do Conselho Nacional de Justiça',\n",
       " 'Sandra Krieger, representante do Conselho Nacional do Ministério Público',\n",
       " 'Rafael Meira Luz, membro auxiliar Conselho Nacional do Ministério Público',\n",
       " 'Danilo Aguiar, Consultor-Geral do Senado Federal',\n",
       " 'Alexandre Silveira, Consultor Jurídico do Senado Federal',\n",
       " 'Thiago Meirelles Fernandes Pereira, Secretário-Executivo Adjunto da Casa Civil',\n",
       " 'Francieli Fontana, Secretária Extraordinária de Enfrentamento da Pandemia da CONVID-19']"
      ]
     },
     "metadata": {},
     "execution_count": 47
    }
   ],
   "source": []
  },
  {
   "cell_type": "code",
   "execution_count": null,
   "metadata": {},
   "outputs": [],
   "source": []
  },
  {
   "cell_type": "code",
   "execution_count": null,
   "metadata": {},
   "outputs": [],
   "source": []
  }
 ]
}